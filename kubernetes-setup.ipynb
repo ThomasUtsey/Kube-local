{
 "cells": [
  {
   "cell_type": "markdown",
   "metadata": {},
   "source": [
    "# Kubernetes Development Environment Setup\n",
    "## Complete setup guide for Mac, Linux, and Windows\n",
    "\n",
    "This notebook will guide you through setting up a complete Kubernetes development environment with the necessary tools and extensions."
   ]
  },
  {
   "cell_type": "markdown",
   "metadata": {},
   "source": [
    "## Step 1: Install Podman\n",
    "Podman is a container engine that provides Docker-compatible commands without requiring a daemon.\n",
    "\n",
    "### macOS Installation"
   ]
  },
  {
   "cell_type": "code",
   "execution_count": null,
   "metadata": {},
   "outputs": [],
   "source": [
    "# macOS - Install using Homebrew\n",
    "!brew install podman\n",
    "\n",
    "# Initialize and start podman machine\n",
    "!podman machine init\n",
    "!podman machine start"
   ]
  },
  {
   "cell_type": "markdown",
   "metadata": {},
   "source": [
    "### Linux Installation"
   ]
  },
  {
   "cell_type": "code",
   "execution_count": null,
   "metadata": {},
   "outputs": [],
   "source": [
    "# Ubuntu/Debian\n",
    "!sudo apt-get update\n",
    "!sudo apt-get install -y podman\n",
    "\n",
    "# RHEL/CentOS/Fedora\n",
    "# !sudo dnf install -y podman\n",
    "\n",
    "# Arch Linux\n",
    "# !sudo pacman -S podman"
   ]
  },
  {
   "cell_type": "markdown",
   "metadata": {},
   "source": [
    "### Windows Installation\n",
    "**For Windows users, run these commands in PowerShell as Administrator:**\n",
    "\n",
    "```powershell\n",
    "# Install using Chocolatey\n",
    "choco install podman-desktop\n",
    "\n",
    "# Or download from: https://podman.io/getting-started/installation\n",
    "# After installation, initialize podman machine:\n",
    "podman machine init\n",
    "podman machine start\n",
    "```"
   ]
  },
  {
   "cell_type": "markdown",
   "metadata": {},
   "source": [
    "### Verify Podman Installation"
   ]
  },
  {
   "cell_type": "code",
   "execution_count": null,
   "metadata": {},
   "outputs": [],
   "source": [
    "# Verify podman is working\n",
    "!podman --version\n",
    "!podman info"
   ]
  },
  {
   "cell_type": "markdown",
   "metadata": {},
   "source": [
    "## Step 2: Add Kubernetes Extension to VS Code\n",
    "The Kubernetes extension provides syntax highlighting, IntelliSense, and cluster management capabilities.\n",
    "\n",
    "### Installation Methods:\n",
    "\n",
    "**Method 1: VS Code Extensions Marketplace**\n",
    "1. Open VS Code\n",
    "2. Press `Ctrl+Shift+X` (Windows/Linux) or `Cmd+Shift+X` (Mac)\n",
    "3. Search for \"Kubernetes\"\n",
    "4. Install the \"Kubernetes\" extension by Microsoft\n",
    "\n",
    "**Method 2: Command Line**"
   ]
  },
  {
   "cell_type": "code",
   "execution_count": null,
   "metadata": {},
   "outputs": [],
   "source": [
    "# Install Kubernetes extension via command line\n",
    "!code --install-extension ms-kubernetes-tools.vscode-kubernetes-tools"
   ]
  },
  {
   "cell_type": "markdown",
   "metadata": {},
   "source": [
    "**Method 3: Extensions JSON (for automated setup)**\n",
    "Add this to your VS Code `extensions.json`:\n",
    "```json\n",
    "{\n",
    "  \"recommendations\": [\n",
    "    \"ms-kubernetes-tools.vscode-kubernetes-tools\"\n",
    "  ]\n",
    "}\n",
    "```"
   ]
  },
  {
   "cell_type": "markdown",
   "metadata": {},
   "source": [
    "## Step 3: Install kubectl (Kubernetes CLI)\n",
    "kubectl is the command-line tool for interacting with Kubernetes clusters. It's essential for managing deployments, services, and other Kubernetes resources.\n",
    "\n",
    "### macOS Installation"
   ]
  },
  {
   "cell_type": "code",
   "execution_count": null,
   "metadata": {},
   "outputs": [],
   "source": [
    "# macOS - Install using Homebrew (recommended)\n",
    "!brew install kubectl\n",
    "\n",
    "# Alternative: Direct download\n",
    "# !curl -LO \"https://dl.k8s.io/release/$(curl -L -s https://dl.k8s.io/release/stable.txt)/bin/darwin/amd64/kubectl\"\n",
    "# !chmod +x kubectl\n",
    "# !sudo mv kubectl /usr/local/bin/kubectl"
   ]
  },
  {
   "cell_type": "markdown",
   "metadata": {},
   "source": [
    "### Linux Installation"
   ]
  },
  {
   "cell_type": "code",
   "execution_count": null,
   "metadata": {},
   "outputs": [],
   "source": [
    "# Linux - Direct download (recommended)\n",
    "!curl -LO \"https://dl.k8s.io/release/$(curl -L -s https://dl.k8s.io/release/stable.txt)/bin/linux/amd64/kubectl\"\n",
    "!chmod +x kubectl\n",
    "!sudo mv kubectl /usr/local/bin/kubectl\n",
    "\n",
    "# Alternative: Package managers\n",
    "# Ubuntu/Debian:\n",
    "# !sudo apt-get update && sudo apt-get install -y kubectl\n",
    "\n",
    "# RHEL/CentOS/Fedora:\n",
    "# !sudo dnf install -y kubectl"
   ]
  },
  {
   "cell_type": "markdown",
   "metadata": {},
   "source": [
    "### Windows Installation\n",
    "**For Windows users, run these commands in PowerShell as Administrator:**\n",
    "\n",
    "```powershell\n",
    "# Using Chocolatey (recommended)\n",
    "choco install kubernetes-cli\n",
    "\n",
    "# Using Scoop\n",
    "scoop install kubectl\n",
    "\n",
    "# Manual installation:\n",
    "# 1. Download from: https://dl.k8s.io/release/v1.28.0/bin/windows/amd64/kubectl.exe\n",
    "# 2. Add kubectl.exe to your PATH\n",
    "```"
   ]
  },
  {
   "cell_type": "markdown",
   "metadata": {},
   "source": [
    "### Verify kubectl Installation"
   ]
  },
  {
   "cell_type": "code",
   "execution_count": null,
   "metadata": {},
   "outputs": [],
   "source": [
    "# Verify kubectl installation\n",
    "!kubectl version --client\n",
    "\n",
    "# Check available commands\n",
    "!kubectl --help | head -20"
   ]
  },
  {
   "cell_type": "markdown",
   "metadata": {},
   "source": [
    "**Expected Output:**\n",
    "```\n",
    "Client Version: v1.28.3\n",
    "Kustomize Version: v5.0.4-0.20230601165947-6ce0bf390ce3\n",
    "```"
   ]
  },
  {
   "cell_type": "markdown",
   "metadata": {},
   "source": [
    "## Step 4: Install Minikube\n",
    "Minikube runs a single-node Kubernetes cluster locally for development and testing.\n",
    "\n",
    "### macOS Installation"
   ]
  },
  {
   "cell_type": "code",
   "execution_count": null,
   "metadata": {},
   "outputs": [],
   "source": [
    "# macOS - Install using Homebrew\n",
    "!brew install minikube\n",
    "\n",
    "# Alternative: Direct download\n",
    "# !curl -LO https://storage.googleapis.com/minikube/releases/latest/minikube-darwin-amd64\n",
    "# !sudo install minikube-darwin-amd64 /usr/local/bin/minikube"
   ]
  },
  {
   "cell_type": "markdown",
   "metadata": {},
   "source": [
    "### Linux Installation"
   ]
  },
  {
   "cell_type": "code",
   "execution_count": null,
   "metadata": {},
   "outputs": [],
   "source": [
    "# Linux - Direct download and install\n",
    "!curl -LO https://storage.googleapis.com/minikube/releases/latest/minikube-linux-amd64\n",
    "!sudo install minikube-linux-amd64 /usr/local/bin/minikube\n",
    "\n",
    "# Alternative: Package manager\n",
    "# Ubuntu/Debian:\n",
    "# !curl -LO https://storage.googleapis.com/minikube/releases/latest/minikube_latest_amd64.deb\n",
    "# !sudo dpkg -i minikube_latest_amd64.deb"
   ]
  },
  {
   "cell_type": "markdown",
   "metadata": {},
   "source": [
    "### Windows Installation\n",
    "**For Windows users, run these commands in PowerShell as Administrator:**\n",
    "\n",
    "```powershell\n",
    "# Using Chocolatey\n",
    "choco install minikube\n",
    "\n",
    "# Using Scoop\n",
    "scoop install minikube\n",
    "\n",
    "# Manual installation:\n",
    "# 1. Download from: https://github.com/kubernetes/minikube/releases/latest\n",
    "# 2. Add minikube.exe to your PATH\n",
    "```"
   ]
  },

  {
   "cell_type": "markdown",
   "metadata": {},
   "source": [
    "### Verify Installation"
   ]
  },
  {
   "cell_type": "code",
   "execution_count": null,
   "metadata": {},
   "outputs": [],
   "source": [
    "# Verify minikube installation\n",
    "!minikube version"
   ]
  },
  {
   "cell_type": "markdown",
   "metadata": {},
   "source": [
    "## Step 5: Start Minikube\n",
    "Configure and start your local Kubernetes cluster.\n",
    "\n",
    "### Basic Startup"
   ]
  },
  {
   "cell_type": "code",
   "execution_count": null,
   "metadata": {},
   "outputs": [],
   "source": [
    "# Start minikube with podman driver\n",
    "!minikube start --driver=podman\n",
    "\n",
    "# Alternative drivers:\n",
    "# !minikube start --driver=docker    # If you have Docker\n",
    "# !minikube start --driver=virtualbox # If you have VirtualBox\n",
    "# !minikube start --driver=hyperkit   # macOS with hyperkit"
   ]
  },
  {
   "cell_type": "markdown",
   "metadata": {},
   "source": [
    "### Advanced Configuration (Optional)"
   ]
  },
  {
   "cell_type": "code",
   "execution_count": null,
   "metadata": {},
   "outputs": [],
   "source": [
    "# Start with custom resources (adjust based on your system)\n",
    "# !minikube start --driver=podman --memory=4096 --cpus=2 --disk-size=20g\n",
    "\n",
    "# Enable useful addons\n",
    "!minikube addons enable dashboard\n",
    "!minikube addons enable ingress\n",
    "!minikube addons enable metrics-server"
   ]
  },
  {
   "cell_type": "markdown",
   "metadata": {},
   "source": [
    "### Verify Cluster Status"
   ]
  },
  {
   "cell_type": "code",
   "execution_count": null,
   "metadata": {},
   "outputs": [],
   "source": [
    "# Check minikube status\n",
    "!minikube status\n",
    "\n",
    "# Check cluster info\n",
    "!kubectl cluster-info\n",
    "\n",
    "# List nodes\n",
    "!kubectl get nodes\n",
    "\n",
    "# Check system pods\n",
    "!kubectl get pods -n kube-system"
   ]
  },
  {
   "cell_type": "markdown",
   "metadata": {},
   "source": [
    "**Expected Output:**\n",
    "```\n",
    "minikube\n",
    "type: Control Plane\n",
    "host: Running\n",
    "kubelet: Running\n",
    "apiserver: Running\n",
    "kubeconfig: Configured\n",
    "\n",
    "NAME       STATUS   ROLES           AGE   VERSION\n",
    "minikube   Ready    control-plane   30s   v1.28.3\n",
    "```"
   ]
  },
  {
   "cell_type": "markdown",
   "metadata": {},
   "source": [
    "## Step 6: View Kubernetes VS Code Tab\n",
    "Access the Kubernetes extension features in VS Code.\n",
    "\n",
    "### Accessing the Kubernetes Extension\n",
    "\n",
    "1. **Open VS Code**\n",
    "2. **View the Kubernetes Panel:**\n",
    "   - Click the Kubernetes icon in the Activity Bar (left sidebar)\n",
    "   - Or press `Ctrl+Shift+P` (Windows/Linux) or `Cmd+Shift+P` (Mac)\n",
    "   - Type \"Kubernetes: Focus on Kubernetes View\"\n",
    "\n",
    "3. **Explore Available Features:**\n",
    "   - **Clusters**: View and switch between clusters\n",
    "   - **Workloads**: Browse deployments, pods, services\n",
    "   - **Configuration**: View ConfigMaps, Secrets\n",
    "   - **Network**: Examine services and ingress\n",
    "   - **Storage**: Check persistent volumes\n",
    "\n",
    "### Verify Extension Connection"
   ]
  },
  {
   "cell_type": "code",
   "execution_count": 1,
   "metadata": {},
   "outputs": [
    {
     "name": "stdout",
     "output_type": "stream",
     "text": [
      "minikube\n",
      "CURRENT   NAME       CLUSTER    AUTHINFO   NAMESPACE\n",
      "*         minikube   minikube   minikube   default\n"
     ]
    }
   ],
   "source": [
    "# Verify kubectl context is set to minikube\n",
    "!kubectl config current-context\n",
    "\n",
    "# List all contexts\n",
    "!kubectl config get-contexts"
   ]
  },
  {
   "cell_type": "markdown",
   "metadata": {},
   "source": [
    "### Test the Setup"
   ]
  },
  {
   "cell_type": "code",
   "execution_count": 2,
   "metadata": {},
   "outputs": [
    {
     "name": "stdout",
     "output_type": "stream",
     "text": [
      "pod/test-pod created\n",
      "NAME           READY   STATUS              RESTARTS   AGE\n",
      "my-first-pod   1/1     Running             0          61m\n",
      "test-pod       0/1     ContainerCreating   0          1s\n",
      "pod \"test-pod\" deleted\n"
     ]
    }
   ],
   "source": [
    "# Create a test pod to verify everything works\n",
    "!kubectl run test-pod --image=nginx:latest --port=80\n",
    "\n",
    "# Check if the pod is running\n",
    "!kubectl get pods\n",
    "\n",
    "# Clean up the test pod\n",
    "!kubectl delete pod test-pod"
   ]
  },
  {
   "cell_type": "markdown",
   "metadata": {},
   "source": [
    "## Troubleshooting Common Issues\n",
    "\n",
    "### Issue 1: Minikube won't start\n",
    "```bash\n",
    "# Check available drivers\n",
    "minikube start --help | grep driver\n",
    "\n",
    "# Try different driver\n",
    "minikube start --driver=docker\n",
    "\n",
    "# Reset minikube\n",
    "minikube delete\n",
    "minikube start\n",
    "```\n",
    "\n",
    "### Issue 2: VS Code extension not connecting\n",
    "```bash\n",
    "# Verify kubectl configuration\n",
    "kubectl config view\n",
    "\n",
    "# Set correct context\n",
    "kubectl config use-context minikube\n",
    "```\n",
    "\n",
    "### Issue 3: Podman permission issues (Linux)\n",
    "```bash\n",
    "# Add user to podman group\n",
    "sudo usermod -aG podman $USER\n",
    "newgrp podman\n",
    "```"
   ]
  },
  {
   "cell_type": "markdown",
   "metadata": {},
   "source": [
    "## Next Steps\n",
    "\n",
    "✅ **Setup Complete!** You now have:\n",
    "- Podman container engine installed\n",
    "- Kubernetes VS Code extension configured\n",
    "- Minikube cluster running locally\n",
    "- kubectl CLI tool ready\n",
    "- VS Code Kubernetes integration active\n",
    "\n",
    "**Ready to proceed with:**\n",
    "- `01-beginner/` - Basic Kubernetes concepts\n",
    "- `02-intermediate/` - Advanced workloads\n",
    "- `03-advanced/` - Security and networking\n",
    "- `04-expert/` - Enterprise patterns\n",
    "\n",
    "### Useful Commands for Daily Use\n",
    "```bash\n",
    "# Start/stop minikube\n",
    "minikube start\n",
    "minikube stop\n",
    "\n",
    "# Access Kubernetes dashboard\n",
    "minikube dashboard\n",
    "\n",
    "# Get minikube IP\n",
    "minikube ip\n",
    "\n",
    "# SSH into minikube\n",
    "minikube ssh\n",
    "```"
   ]
  }
 ],
 "metadata": {
  "kernelspec": {
   "display_name": "Python 3",
   "language": "python",
   "name": "python3"
  },
  "language_info": {
   "codemirror_mode": {
    "name": "ipython",
    "version": 3
   },
   "file_extension": ".py",
   "mimetype": "text/x-python",
   "name": "python",
   "nbconvert_exporter": "python",
   "pygments_lexer": "ipython3",
   "version": "3.11.13"
  }
 },
 "nbformat": 4,
 "nbformat_minor": 4
}
